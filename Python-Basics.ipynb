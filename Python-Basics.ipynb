{
 "cells": [
  {
   "cell_type": "code",
   "execution_count": 8,
   "metadata": {},
   "outputs": [
    {
     "data": {
      "text/plain": [
       "'I said Hey  Hey  Hey'"
      ]
     },
     "execution_count": 8,
     "metadata": {},
     "output_type": "execute_result"
    }
   ],
   "source": [
    "#Guess the type\n",
    "type('hi')\n",
    "\n",
    "#Type conversion\n",
    "\"I said\" + (\" Hey \"*2) + \" Hey\""
   ]
  },
  {
   "cell_type": "code",
   "execution_count": 17,
   "metadata": {},
   "outputs": [
    {
     "data": {
      "text/plain": [
       "['b', 'c']"
      ]
     },
     "execution_count": 17,
     "metadata": {},
     "output_type": "execute_result"
    }
   ],
   "source": [
    "#Slicing\n",
    "x = [\"a\", \"b\", \"c\", \"d\"]\n",
    "x[1] # b\n",
    "x[-1] # negative slicing도 가능. 인덱싱 주의, d\n",
    "\n",
    "x[1]+x[-1] #bd\n",
    "\n",
    "x[1:3] #['b', 'c']"
   ]
  },
  {
   "cell_type": "code",
   "execution_count": 36,
   "metadata": {},
   "outputs": [
    {
     "data": {
      "text/plain": [
       "[60, 70, 80, 90]"
      ]
     },
     "execution_count": 36,
     "metadata": {},
     "output_type": "execute_result"
    }
   ],
   "source": [
    "x = [0, 10, 20, 30, 40, 50, 60, 70, 80, 90]\n",
    "\n",
    "x[4:-1] #[40,50, 60, 70, 80] 맨 뒤에는 포함하지 않으니 -2까지 읽으니까!\n",
    "\n",
    "x[2:8:3] #[20,50] 2부터 7까지 4씩 증가\n",
    "\n",
    "x[:7] # 인덱스 처음부터 6까지\n",
    "\n",
    "x[7:] # 7부터 끝까지\n",
    "\n",
    "x[:] # 전체\n",
    "\n",
    "x[:7:2] # [0, 20, 40, 60]\n",
    "\n",
    "x[7::2] # [70, 90]\n",
    "\n",
    "x[::2] # [0, 20, 40, 60, 80 \n",
    "\n",
    "x[::] # 전체. x[:]와 동일\n",
    "\n",
    "x[5:1:-1] # 5부터 2까지. [50, 40, 30, 20]\n",
    "x[:5:-1]  # [90, 80, 70, 60]\n",
    "# 주의사항. 마이너스일 경우 시작 인덱스가 더 커야 한다. \n",
    "\n",
    "# 만약 시작 인덱스가 더 작다면?\n",
    "x[3:7:-1] # [] 나옴\n",
    "\n",
    "x[::-1] # [90, ...., 0]\n",
    "\n",
    "# len 응용\n",
    "x[0:len(x)] # [0, 10, ..... , 90]\n",
    "x[:len(x)]\n",
    "\n",
    "x[:6] + x[-4:] # 전체 다\n",
    "x[:6] # [0, 10, .... 50]\n",
    "x[-4:] # [60, 70, 80, 90]\n",
    "\n"
   ]
  },
  {
   "cell_type": "code",
   "execution_count": 38,
   "metadata": {},
   "outputs": [
    {
     "data": {
      "text/plain": [
       "['g', 'h']"
      ]
     },
     "execution_count": 38,
     "metadata": {},
     "output_type": "execute_result"
    }
   ],
   "source": [
    "# Subsetting lists of lists\n",
    "x = [[\"a\", \"b\", \"c\"], [\"d\", \"e\", \"f\"], [\"g\", \"h\", \"i\"]]\n",
    "x[2][0] # 'g'\n",
    "x[2][:2] # ['g', 'h']"
   ]
  },
  {
   "cell_type": "code",
   "execution_count": 45,
   "metadata": {},
   "outputs": [
    {
     "data": {
      "text/plain": [
       "['a', 'z', 'c']"
      ]
     },
     "execution_count": 45,
     "metadata": {},
     "output_type": "execute_result"
    }
   ],
   "source": [
    "x = [\"a\", \"b\", \"c\"]\n",
    "# y = x\n",
    "# y[1] = \"z\"\n",
    "y # ['a', 'z', 'c']\n",
    "x # ['a', 'z', 'c'] \n",
    "# x,y는 실제 값 자체가 아니라 목록에 대한 참조를 복사하므로 모두 업데이트된 것을 볼 수 있음 \n",
    "\n",
    "# 메모리의 새 목록을 가리키는 y를 만들고 싶다면, 등호(=)가 아닌 방법을 사용해야 함\n",
    "y = x[:]\n",
    "y[1] = 'z'\n",
    "x # ['a', 'b', 'c']\n",
    "y # ['a', 'z', 'c']\n",
    "    "
   ]
  },
  {
   "cell_type": "code",
   "execution_count": null,
   "metadata": {},
   "outputs": [],
   "source": []
  }
 ],
 "metadata": {
  "interpreter": {
   "hash": "81794d4967e6c3204c66dcd87b604927b115b27c00565d3d43f05ba2f3a2cb0d"
  },
  "kernelspec": {
   "display_name": "Python 3.9.5 64-bit",
   "language": "python",
   "name": "python3"
  },
  "language_info": {
   "codemirror_mode": {
    "name": "ipython",
    "version": 3
   },
   "file_extension": ".py",
   "mimetype": "text/x-python",
   "name": "python",
   "nbconvert_exporter": "python",
   "pygments_lexer": "ipython3",
   "version": "3.9.5"
  },
  "orig_nbformat": 4
 },
 "nbformat": 4,
 "nbformat_minor": 2
}
