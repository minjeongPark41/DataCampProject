{
 "cells": [
  {
   "cell_type": "code",
   "execution_count": 8,
   "metadata": {},
   "outputs": [
    {
     "data": {
      "text/plain": [
       "'I said Hey  Hey  Hey'"
      ]
     },
     "execution_count": 8,
     "metadata": {},
     "output_type": "execute_result"
    }
   ],
   "source": [
    "#Guess the type\n",
    "type('hi')\n",
    "\n",
    "#Type conversion\n",
    "\"I said\" + (\" Hey \"*2) + \" Hey\""
   ]
  },
  {
   "cell_type": "code",
   "execution_count": 17,
   "metadata": {},
   "outputs": [
    {
     "data": {
      "text/plain": [
       "['b', 'c']"
      ]
     },
     "execution_count": 17,
     "metadata": {},
     "output_type": "execute_result"
    }
   ],
   "source": [
    "#Slicing\n",
    "x = [\"a\", \"b\", \"c\", \"d\"]\n",
    "x[1] # b\n",
    "x[-1] # negative slicing도 가능. 인덱싱 주의, d\n",
    "\n",
    "x[1]+x[-1] #bd\n",
    "\n",
    "x[1:3] #['b', 'c']"
   ]
  },
  {
   "cell_type": "code",
   "execution_count": 36,
   "metadata": {},
   "outputs": [
    {
     "data": {
      "text/plain": [
       "[60, 70, 80, 90]"
      ]
     },
     "execution_count": 36,
     "metadata": {},
     "output_type": "execute_result"
    }
   ],
   "source": [
    "x = [0, 10, 20, 30, 40, 50, 60, 70, 80, 90]\n",
    "\n",
    "x[4:-1] #[40,50, 60, 70, 80] 맨 뒤에는 포함하지 않으니 -2까지 읽으니까!\n",
    "\n",
    "x[2:8:3] #[20,50] 2부터 7까지 4씩 증가\n",
    "\n",
    "x[:7] # 인덱스 처음부터 6까지\n",
    "\n",
    "x[7:] # 7부터 끝까지\n",
    "\n",
    "x[:] # 전체\n",
    "\n",
    "x[:7:2] # [0, 20, 40, 60]\n",
    "\n",
    "x[7::2] # [70, 90]\n",
    "\n",
    "x[::2] # [0, 20, 40, 60, 80 \n",
    "\n",
    "x[::] # 전체. x[:]와 동일\n",
    "\n",
    "x[5:1:-1] # 5부터 2까지. [50, 40, 30, 20]\n",
    "x[:5:-1]  # [90, 80, 70, 60]\n",
    "# 주의사항. 마이너스일 경우 시작 인덱스가 더 커야 한다. \n",
    "\n",
    "# 만약 시작 인덱스가 더 작다면?\n",
    "x[3:7:-1] # [] 나옴\n",
    "\n",
    "x[::-1] # [90, ...., 0]\n",
    "\n",
    "# len 응용\n",
    "x[0:len(x)] # [0, 10, ..... , 90]\n",
    "x[:len(x)]\n",
    "\n",
    "x[:6] + x[-4:] # 전체 다\n",
    "x[:6] # [0, 10, .... 50]\n",
    "x[-4:] # [60, 70, 80, 90]\n",
    "\n"
   ]
  },
  {
   "cell_type": "code",
   "execution_count": 38,
   "metadata": {},
   "outputs": [
    {
     "data": {
      "text/plain": [
       "['g', 'h']"
      ]
     },
     "execution_count": 38,
     "metadata": {},
     "output_type": "execute_result"
    }
   ],
   "source": [
    "# Subsetting lists of lists\n",
    "x = [[\"a\", \"b\", \"c\"], [\"d\", \"e\", \"f\"], [\"g\", \"h\", \"i\"]]\n",
    "x[2][0] # 'g'\n",
    "x[2][:2] # ['g', 'h']"
   ]
  },
  {
   "cell_type": "code",
   "execution_count": 45,
   "metadata": {},
   "outputs": [
    {
     "data": {
      "text/plain": [
       "['a', 'z', 'c']"
      ]
     },
     "execution_count": 45,
     "metadata": {},
     "output_type": "execute_result"
    }
   ],
   "source": [
    "x = [\"a\", \"b\", \"c\"]\n",
    "# y = x\n",
    "# y[1] = \"z\"\n",
    "y # ['a', 'z', 'c']\n",
    "x # ['a', 'z', 'c'] \n",
    "# x,y는 실제 값 자체가 아니라 목록에 대한 참조를 복사하므로 모두 업데이트된 것을 볼 수 있음 \n",
    "\n",
    "# 메모리의 새 목록을 가리키는 y를 만들고 싶다면, 등호(=)가 아닌 방법을 사용해야 함\n",
    "y = x[:]\n",
    "y[1] = 'z'\n",
    "x # ['a', 'b', 'c']\n",
    "y # ['a', 'z', 'c']\n",
    "    "
   ]
  },
  {
   "cell_type": "code",
   "execution_count": 47,
   "metadata": {},
   "outputs": [
    {
     "data": {
      "text/plain": [
       "['a', 'r', 's', 't']"
      ]
     },
     "execution_count": 47,
     "metadata": {},
     "output_type": "execute_result"
    }
   ],
   "source": [
    "x = ['a', 'b', 'c', 'd']\n",
    "x[1] = 'r'\n",
    "x[2:] = ['s', 't']\n",
    "x # ['a', 'r', 's', 't']"
   ]
  },
  {
   "cell_type": "code",
   "execution_count": 48,
   "metadata": {},
   "outputs": [
    {
     "data": {
      "text/plain": [
       "['a', 'b', 'c', 'd', 'e', 'f']"
      ]
     },
     "execution_count": 48,
     "metadata": {},
     "output_type": "execute_result"
    }
   ],
   "source": [
    "x = ['a', 'b', 'c', 'd']\n",
    "y = x + ['e', 'f']\n",
    "y # ['a', 'b', 'c', 'd', 'e', 'f']"
   ]
  },
  {
   "cell_type": "code",
   "execution_count": 52,
   "metadata": {},
   "outputs": [
    {
     "data": {
      "text/plain": [
       "['a', 'd']"
      ]
     },
     "execution_count": 52,
     "metadata": {},
     "output_type": "execute_result"
    }
   ],
   "source": [
    "x = ['a', 'b', 'c', 'd']\n",
    "# del(x[1]) # 메모리 낭비 없이 지워줌\n",
    "x # ['a', 'c', 'd']\n",
    "\n",
    "del(x[-3:-1])\n",
    "x # ['a', 'd'] # 위에 del()은 주석처리했을 때의 결과임"
   ]
  },
  {
   "cell_type": "code",
   "execution_count": 53,
   "metadata": {},
   "outputs": [
    {
     "data": {
      "text/plain": [
       "float"
      ]
     },
     "execution_count": 53,
     "metadata": {},
     "output_type": "execute_result"
    }
   ],
   "source": [
    "result = type(3.0)\n",
    "result # float"
   ]
  },
  {
   "cell_type": "code",
   "execution_count": 58,
   "metadata": {},
   "outputs": [
    {
     "name": "stdout",
     "output_type": "stream",
     "text": [
      "Help on built-in function max in module builtins:\n",
      "\n",
      "max(...)\n",
      "    max(iterable, *[, default=obj, key=func]) -> value\n",
      "    max(arg1, arg2, *args, *[, key=func]) -> value\n",
      "    \n",
      "    With a single iterable argument, return its biggest item. The\n",
      "    default keyword-only argument specifies an object to return if\n",
      "    the provided iterable is empty.\n",
      "    With two or more arguments, return the largest argument.\n",
      "\n",
      "Help on built-in function sorted in module builtins:\n",
      "\n",
      "sorted(iterable, /, *, key=None, reverse=False)\n",
      "    Return a new list containing all items from the iterable in ascending order.\n",
      "    \n",
      "    A custom key function can be supplied to customize the sort order, and the\n",
      "    reverse flag can be set to request the result in descending order.\n",
      "\n"
     ]
    }
   ],
   "source": [
    "help(max)\n",
    "help(sorted) # return a 'new' list"
   ]
  },
  {
   "cell_type": "code",
   "execution_count": 63,
   "metadata": {},
   "outputs": [
    {
     "data": {
      "text/plain": [
       "[1, 3, 7, 14]"
      ]
     },
     "execution_count": 63,
     "metadata": {},
     "output_type": "execute_result"
    }
   ],
   "source": [
    "full = [1, 3, 7, 14]\n",
    "x = sorted(full)\n",
    "x # [1,3, 7, 14]\n",
    "\n",
    "y = sorted(full, reverse=True)\n",
    "y # [14, 7, 3, 1]"
   ]
  },
  {
   "cell_type": "code",
   "execution_count": 92,
   "metadata": {},
   "outputs": [
    {
     "name": "stdout",
     "output_type": "stream",
     "text": [
      "None\n"
     ]
    },
    {
     "data": {
      "text/plain": [
       "[1, 1, 2, 3, 4]"
      ]
     },
     "execution_count": 92,
     "metadata": {},
     "output_type": "execute_result"
    }
   ],
   "source": [
    "# Methods\n",
    "sister = 'liz'\n",
    "sister.replace('z', 'sa') # 'lisa cf) sister 출력하면 'liz' 나옴\n",
    "\n",
    "sister.upper() #'LIZ'\n",
    "sister.count('s') # 0 여기서 헷갈리면 안되는게 sister의 count를 세는게 아님. \"객체.count()인 것\"\n",
    "sister.count('l') # 1 \n",
    "\n",
    "place = \"New York\"\n",
    "place.upper() #'NEW YORK'\n",
    "place.count('n') # 0\n",
    "place.count('N') # 1\n",
    "\n",
    "areas = [11.25, 18.0, 12.0, 10.75, 9.50]\n",
    "areas.index(11.25) # 0\n",
    "areas.count(9.50) # 1 \n",
    "\n",
    "areas = [1, 2, 3, 4]\n",
    "areas.append(5)\n",
    "areas # [1, 2, 3, 4, 5]\n",
    "\n",
    "areas.reverse()\n",
    "areas # [5, 4, 3, 2, 1]\n",
    "print(areas.reverse()) # None. .reverse()는 객체에 대한 메소드. '이 메소드'의 리턴값은 None\n"
   ]
  },
  {
   "cell_type": "code",
   "execution_count": 94,
   "metadata": {},
   "outputs": [
    {
     "data": {
      "text/plain": [
       "array([1, 2, 3])"
      ]
     },
     "execution_count": 94,
     "metadata": {},
     "output_type": "execute_result"
    }
   ],
   "source": [
    "import numpy \n",
    "numpy.array([1,2,3]) # array([1,2,3])\n",
    "\n",
    "# 딱 한 기능을 가지고 올 때\n",
    "from numpy import array\n",
    "array([1,2,3]) # array([1,2,3]) \n",
    "\n",
    "# 하지만 코드가 길어지면 import 한 걸 잊을 수도 있기 때문에 그냥 numpy 전체를 import 해서 사용해주는게 선호됨"
   ]
  },
  {
   "cell_type": "code",
   "execution_count": 99,
   "metadata": {},
   "outputs": [
    {
     "data": {
      "text/plain": [
       "9.869604401089358"
      ]
     },
     "execution_count": 99,
     "metadata": {},
     "output_type": "execute_result"
    }
   ],
   "source": [
    "import math\n",
    "\n",
    "r = 0.43\n",
    "\n",
    "C = 2*math.pi*r\n",
    "C # 2*r만 한 것과는 다름! \n",
    "\n",
    "A = math.pi **2\n",
    "A"
   ]
  },
  {
   "cell_type": "code",
   "execution_count": 101,
   "metadata": {},
   "outputs": [
    {
     "data": {
      "text/plain": [
       "0.43"
      ]
     },
     "execution_count": 101,
     "metadata": {},
     "output_type": "execute_result"
    }
   ],
   "source": [
    "import math\n",
    "from math import pi \n",
    "\n",
    "from math import radians\n",
    "\n",
    "dist = r*radians(12) # math.radians가 아니라 바로 썼다는게 포인트"
   ]
  },
  {
   "cell_type": "code",
   "execution_count": 104,
   "metadata": {},
   "outputs": [
    {
     "data": {
      "text/plain": [
       "array([10.        ,  5.        ,  3.33333333,  2.5       ,  2.        ])"
      ]
     },
     "execution_count": 104,
     "metadata": {},
     "output_type": "execute_result"
    }
   ],
   "source": [
    "import numpy as np\n",
    "\n",
    "height = [1,2,3,4,5]\n",
    "np_height = np.array(height)\n",
    "np_height # array([1,2,3,4,5])\n",
    "\n",
    "weight = [10, 20, 30, 40, 50]\n",
    "np_weight = np.array(weight)\n",
    "np_weight # array([10, 20, 30, 40, 50])\n",
    "\n",
    "bmi = np_weight/np_height**2\n",
    "bmi # array([10, 5, 3.333, 2.5, 2])\n",
    "\n",
    "# point는 오류없이 잘 수행된다는 것. 일반 파이썬이었으면 오류 \n",
    "\n",
    "# 일반 파이썬에서 오류가 나는 이유 \n",
    "# ㄴ 우리가 원하는 것과 같은 목록으로 계산을 수행하지 않기 때문. 반면 numpy는 지혜롭게 계산을 해줌"
   ]
  },
  {
   "cell_type": "code",
   "execution_count": null,
   "metadata": {},
   "outputs": [],
   "source": [
    "# Numpy array : contain only one type\n",
    "# ㄴ numpy가 빠를 수 있는 이유는 한 타입만 넣을 수 있는 특징 때문\n",
    "\n",
    "# Numpy 배열은 새로운 종류다.\n",
    "# ㄴ type() 찍어봐도 다름. "
   ]
  },
  {
   "cell_type": "code",
   "execution_count": 107,
   "metadata": {},
   "outputs": [
    {
     "data": {
      "text/plain": [
       "array([2, 4, 6])"
      ]
     },
     "execution_count": 107,
     "metadata": {},
     "output_type": "execute_result"
    }
   ],
   "source": [
    "python_list = [1,2,3]\n",
    "numpy_array = np.array([1,2,3])\n",
    "numpy_array # array([1, 2, 3])\n",
    "\n",
    "python_list + python_list # [1,2,3,1,2,3]\n",
    "numpy_array + numpy_array # array([2,4,6])\n",
    "\n",
    "# different type, different behavior! "
   ]
  },
  {
   "cell_type": "code",
   "execution_count": 114,
   "metadata": {},
   "outputs": [
    {
     "data": {
      "text/plain": [
       "array([10.])"
      ]
     },
     "execution_count": 114,
     "metadata": {},
     "output_type": "execute_result"
    }
   ],
   "source": [
    "bmi = [1,2,3,4,5]\n",
    "bmi[1] #2\n",
    "\n",
    "# bmi>3 # 지금 당장은 에러 \n",
    "\n",
    "height = [1,2,3,4,5]\n",
    "np_height = np.array(height)\n",
    "np_height # array([1,2,3,4,5])\n",
    "\n",
    "weight = [10, 20, 30, 40, 50]\n",
    "np_weight = np.array(weight)\n",
    "np_weight # array([10, 20, 30, 40, 50])\n",
    "\n",
    "bmi = np_weight/np_height**2\n",
    "bmi # array([10, 5, 3.333, 2.5, 2])\n",
    "\n",
    "bmi > 3 # array([True, True, True, False, False])\n",
    "\n",
    "#대괄호 안에 이 bool 배열을 이용해서 subsetting이 가능\n",
    "bmi[bmi>5] # arrat(10.)\n",
    "\n",
    "# 비교 결과를 사용하여 데이터를 선택하는 것은 놀라운 통찰력을 얻는 매우 일반적인 방법임 \n"
   ]
  },
  {
   "cell_type": "code",
   "execution_count": 116,
   "metadata": {},
   "outputs": [
    {
     "name": "stdout",
     "output_type": "stream",
     "text": [
      "<class 'numpy.ndarray'>\n"
     ]
    }
   ],
   "source": [
    "baseball = [1,2,3,4,5]\n",
    "np_baseball = np.array(baseball)\n",
    "np_baseball # array([1,2,3,4,5])\n",
    "\n",
    "print(type(np_baseball)) # <class 'numpy.ndarray'>"
   ]
  },
  {
   "cell_type": "code",
   "execution_count": 119,
   "metadata": {},
   "outputs": [
    {
     "name": "stdout",
     "output_type": "stream",
     "text": [
      "[74 74 72 75]\n",
      "[1.8796 1.8796 1.8288 1.905 ]\n"
     ]
    }
   ],
   "source": [
    "height_in = [74, 74, 72, 75]\n",
    "np_height = np.array(height_in)\n",
    "np_height # array([74, 74, 72, 75])\n",
    "\n",
    "print(np_height) # [74 74 72 75]\n",
    "\n",
    "np_height_m = np_height * 0.0254\n",
    "print(np_height_m)"
   ]
  },
  {
   "cell_type": "code",
   "execution_count": 120,
   "metadata": {},
   "outputs": [
    {
     "data": {
      "text/plain": [
       "[1, 1, 1, 1, 1]"
      ]
     },
     "execution_count": 120,
     "metadata": {},
     "output_type": "execute_result"
    }
   ],
   "source": [
    "a = [1]\n",
    "b = a*5\n",
    "b # [1,1,1,1,1]"
   ]
  },
  {
   "cell_type": "code",
   "execution_count": 3,
   "metadata": {},
   "outputs": [
    {
     "ename": "NameError",
     "evalue": "name 'np' is not defined",
     "output_type": "error",
     "traceback": [
      "\u001b[1;31m---------------------------------------------------------------------------\u001b[0m",
      "\u001b[1;31mNameError\u001b[0m                                 Traceback (most recent call last)",
      "\u001b[1;32mC:\\Users\\PARKMI~1\\AppData\\Local\\Temp/ipykernel_4784/2339744427.py\u001b[0m in \u001b[0;36m<module>\u001b[1;34m\u001b[0m\n\u001b[0;32m      2\u001b[0m \u001b[0mweight\u001b[0m \u001b[1;33m=\u001b[0m \u001b[1;33m[\u001b[0m\u001b[1;36m10\u001b[0m\u001b[1;33m,\u001b[0m \u001b[1;36m20\u001b[0m\u001b[1;33m,\u001b[0m \u001b[1;36m30\u001b[0m\u001b[1;33m,\u001b[0m \u001b[1;36m40\u001b[0m\u001b[1;33m]\u001b[0m\u001b[1;33m\u001b[0m\u001b[1;33m\u001b[0m\u001b[0m\n\u001b[0;32m      3\u001b[0m \u001b[1;33m\u001b[0m\u001b[0m\n\u001b[1;32m----> 4\u001b[1;33m \u001b[0mnp_height_m\u001b[0m \u001b[1;33m=\u001b[0m \u001b[0mnp\u001b[0m\u001b[1;33m.\u001b[0m\u001b[0marray\u001b[0m\u001b[1;33m(\u001b[0m\u001b[0mheight_in\u001b[0m\u001b[1;33m)\u001b[0m\u001b[1;33m*\u001b[0m\u001b[1;36m0.0254\u001b[0m\u001b[1;33m\u001b[0m\u001b[1;33m\u001b[0m\u001b[0m\n\u001b[0m\u001b[0;32m      5\u001b[0m \u001b[0mnp_weight_kg\u001b[0m \u001b[1;33m=\u001b[0m \u001b[0mnp\u001b[0m\u001b[1;33m.\u001b[0m\u001b[0marray\u001b[0m\u001b[1;33m(\u001b[0m\u001b[0mweight\u001b[0m\u001b[1;33m)\u001b[0m\u001b[1;33m*\u001b[0m\u001b[1;36m0.453592\u001b[0m\u001b[1;33m\u001b[0m\u001b[1;33m\u001b[0m\u001b[0m\n\u001b[0;32m      6\u001b[0m \u001b[0mbmi\u001b[0m \u001b[1;33m=\u001b[0m \u001b[0mnp_weight_kg\u001b[0m\u001b[1;33m/\u001b[0m\u001b[0mnp_height_m\u001b[0m\u001b[1;33m**\u001b[0m\u001b[1;36m2\u001b[0m\u001b[1;33m\u001b[0m\u001b[1;33m\u001b[0m\u001b[0m\n",
      "\u001b[1;31mNameError\u001b[0m: name 'np' is not defined"
     ]
    }
   ],
   "source": [
    "height_in = [74, 74, 72, 75]\n",
    "weight = [10, 20, 30, 40]\n",
    "\n",
    "np_height_m = np.array(height_in)*0.0254\n",
    "np_weight_kg = np.array(weight)*0.453592\n",
    "bmi = np_weight_kg/np_height_m**2\n",
    "bmi"
   ]
  },
  {
   "cell_type": "code",
   "execution_count": 2,
   "metadata": {},
   "outputs": [
    {
     "ename": "NameError",
     "evalue": "name 'bmi' is not defined",
     "output_type": "error",
     "traceback": [
      "\u001b[1;31m---------------------------------------------------------------------------\u001b[0m",
      "\u001b[1;31mNameError\u001b[0m                                 Traceback (most recent call last)",
      "\u001b[1;32mC:\\Users\\PARKMI~1\\AppData\\Local\\Temp/ipykernel_4784/2746348810.py\u001b[0m in \u001b[0;36m<module>\u001b[1;34m\u001b[0m\n\u001b[0;32m      3\u001b[0m \u001b[1;31m# high\u001b[0m\u001b[1;33m\u001b[0m\u001b[1;33m\u001b[0m\u001b[1;33m\u001b[0m\u001b[0m\n\u001b[0;32m      4\u001b[0m \u001b[1;33m\u001b[0m\u001b[0m\n\u001b[1;32m----> 5\u001b[1;33m \u001b[0mlight\u001b[0m \u001b[1;33m=\u001b[0m \u001b[0mbmi\u001b[0m \u001b[1;33m<\u001b[0m \u001b[1;36m21\u001b[0m\u001b[1;33m\u001b[0m\u001b[1;33m\u001b[0m\u001b[0m\n\u001b[0m\u001b[0;32m      6\u001b[0m \u001b[0mlight\u001b[0m  \u001b[1;31m# array([ True,  True,  True,  True])\u001b[0m\u001b[1;33m\u001b[0m\u001b[1;33m\u001b[0m\u001b[0m\n\u001b[0;32m      7\u001b[0m \u001b[1;33m\u001b[0m\u001b[0m\n",
      "\u001b[1;31mNameError\u001b[0m: name 'bmi' is not defined"
     ]
    }
   ],
   "source": [
    "# boolean numpy arrays\n",
    "# high = y>5\n",
    "# high\n",
    "\n",
    "light = bmi < 21\n",
    "light  # array([ True,  True,  True,  True])\n",
    "\n",
    "bmi[light]"
   ]
  },
  {
   "cell_type": "code",
   "execution_count": 4,
   "metadata": {},
   "outputs": [
    {
     "data": {
      "text/plain": [
       "array([4, 5, 2])"
      ]
     },
     "execution_count": 4,
     "metadata": {},
     "output_type": "execute_result"
    }
   ],
   "source": [
    "import numpy as np\n",
    "\n",
    "np.array([True, 1, 2]) + np.array([3,4,False])\n",
    "# array([4, 5, 2])"
   ]
  },
  {
   "cell_type": "code",
   "execution_count": null,
   "metadata": {},
   "outputs": [],
   "source": []
  }
 ],
 "metadata": {
  "interpreter": {
   "hash": "81794d4967e6c3204c66dcd87b604927b115b27c00565d3d43f05ba2f3a2cb0d"
  },
  "kernelspec": {
   "display_name": "Python 3.9.5 64-bit",
   "language": "python",
   "name": "python3"
  },
  "language_info": {
   "codemirror_mode": {
    "name": "ipython",
    "version": 3
   },
   "file_extension": ".py",
   "mimetype": "text/x-python",
   "name": "python",
   "nbconvert_exporter": "python",
   "pygments_lexer": "ipython3",
   "version": "3.9.5"
  },
  "orig_nbformat": 4
 },
 "nbformat": 4,
 "nbformat_minor": 2
}
