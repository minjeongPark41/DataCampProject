{
 "cells": [
  {
   "cell_type": "markdown",
   "metadata": {},
   "source": [
    "질문 1. 주석이면 출력이 안되어야 하는거 아닌가"
   ]
  },
  {
   "cell_type": "code",
   "execution_count": 2,
   "metadata": {},
   "outputs": [
    {
     "data": {
      "text/plain": [
       "'\\n     쌍 따옴표로도\\n할 수 있습니다.\\n'"
      ]
     },
     "execution_count": 2,
     "metadata": {},
     "output_type": "execute_result"
    }
   ],
   "source": [
    "# 한줄짜리 주석입니다.\n",
    "'''\n",
    "이렇게 \n",
    "여러줄을\n",
    "주석처리 할 수 있습니다.\n",
    "'''\n",
    "\"\"\"\n",
    "     쌍 따옴표로도\n",
    "할 수 있습니다.\n",
    "\"\"\""
   ]
  }
 ],
 "metadata": {
  "interpreter": {
   "hash": "81794d4967e6c3204c66dcd87b604927b115b27c00565d3d43f05ba2f3a2cb0d"
  },
  "kernelspec": {
   "display_name": "Python 3.9.5 64-bit",
   "language": "python",
   "name": "python3"
  },
  "language_info": {
   "codemirror_mode": {
    "name": "ipython",
    "version": 3
   },
   "file_extension": ".py",
   "mimetype": "text/x-python",
   "name": "python",
   "nbconvert_exporter": "python",
   "pygments_lexer": "ipython3",
   "version": "3.9.5"
  },
  "orig_nbformat": 4
 },
 "nbformat": 4,
 "nbformat_minor": 2
}
